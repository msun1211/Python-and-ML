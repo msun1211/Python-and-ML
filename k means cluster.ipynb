{
 "cells": [
  {
   "cell_type": "code",
   "execution_count": 3,
   "metadata": {},
   "outputs": [],
   "source": [
    "import numpy as np\n",
    "from matplotlib import style\n",
    "import pandas as pd "
   ]
  },
  {
   "cell_type": "code",
   "execution_count": 4,
   "metadata": {},
   "outputs": [],
   "source": [
    "df = pd.read_csv(r\".\\data\\ipl.csv\")"
   ]
  },
  {
   "cell_type": "code",
   "execution_count": 5,
   "metadata": {},
   "outputs": [
    {
     "data": {
      "text/html": [
       "<div>\n",
       "<style scoped>\n",
       "    .dataframe tbody tr th:only-of-type {\n",
       "        vertical-align: middle;\n",
       "    }\n",
       "\n",
       "    .dataframe tbody tr th {\n",
       "        vertical-align: top;\n",
       "    }\n",
       "\n",
       "    .dataframe thead th {\n",
       "        text-align: right;\n",
       "    }\n",
       "</style>\n",
       "<table border=\"1\" class=\"dataframe\">\n",
       "  <thead>\n",
       "    <tr style=\"text-align: right;\">\n",
       "      <th></th>\n",
       "      <th>one</th>\n",
       "      <th>two</th>\n",
       "    </tr>\n",
       "  </thead>\n",
       "  <tbody>\n",
       "    <tr>\n",
       "      <th>0</th>\n",
       "      <td>0.227680</td>\n",
       "      <td>0.858204</td>\n",
       "    </tr>\n",
       "    <tr>\n",
       "      <th>1</th>\n",
       "      <td>0.979188</td>\n",
       "      <td>0.077151</td>\n",
       "    </tr>\n",
       "    <tr>\n",
       "      <th>2</th>\n",
       "      <td>0.504577</td>\n",
       "      <td>0.553114</td>\n",
       "    </tr>\n",
       "    <tr>\n",
       "      <th>3</th>\n",
       "      <td>0.058132</td>\n",
       "      <td>0.528098</td>\n",
       "    </tr>\n",
       "    <tr>\n",
       "      <th>4</th>\n",
       "      <td>0.775343</td>\n",
       "      <td>0.217922</td>\n",
       "    </tr>\n",
       "  </tbody>\n",
       "</table>\n",
       "</div>"
      ],
      "text/plain": [
       "        one       two\n",
       "0  0.227680  0.858204\n",
       "1  0.979188  0.077151\n",
       "2  0.504577  0.553114\n",
       "3  0.058132  0.528098\n",
       "4  0.775343  0.217922"
      ]
     },
     "execution_count": 5,
     "metadata": {},
     "output_type": "execute_result"
    }
   ],
   "source": [
    "df.head(5)"
   ]
  },
  {
   "cell_type": "code",
   "execution_count": 6,
   "metadata": {},
   "outputs": [],
   "source": [
    "X = df.values"
   ]
  },
  {
   "cell_type": "code",
   "execution_count": 7,
   "metadata": {},
   "outputs": [
    {
     "data": {
      "text/plain": [
       "array([[0.22767982, 0.85820415],\n",
       "       [0.97918822, 0.07715065],\n",
       "       [0.5045766 , 0.55311441],\n",
       "       [0.0581324 , 0.52809798],\n",
       "       [0.77534302, 0.21792169],\n",
       "       [0.55042383, 0.47085982],\n",
       "       [0.04578654, 0.91857895],\n",
       "       [0.58576994, 0.05803225],\n",
       "       [0.70907217, 0.58187366],\n",
       "       [0.01850393, 0.88652292]])"
      ]
     },
     "execution_count": 7,
     "metadata": {},
     "output_type": "execute_result"
    }
   ],
   "source": [
    "X[0:10]"
   ]
  },
  {
   "cell_type": "code",
   "execution_count": 42,
   "metadata": {},
   "outputs": [],
   "source": [
    "import numpy as np\n",
    "import math \n",
    "\n",
    "class K_Means:\n",
    "    def __init__(self, k,  max_iterations = 500):\n",
    "        self.k = k\n",
    "        self.max_iterations = max_iterations\n",
    "        \n",
    "    def Euclidean_distance(self, feat_one, feat_two):\n",
    "        squared_distance = 0;\n",
    "        #Assuming correct input to the function where the lengths of two features are the same\n",
    "        for i in range(len(feat_one)):\n",
    "                squared_distance += (feat_one[i] - feat_two[i])**2\n",
    "        ed =  math.sqrt(squared_distance)\n",
    "        return ed;      \n",
    "\n",
    "    def fit(self, data):\n",
    "\n",
    "        self.centroids = {}\n",
    "\n",
    "        #initialize the centroids, the first 'k' elements in the dataset will be our initial centroids\n",
    "        for i in range(self.k):\n",
    "            self.centroids[i] = data[i]\n",
    "\n",
    "        #begin iterations\n",
    "        for i in range(self.max_iterations):\n",
    "            self.classes = {}\n",
    "            for i in range(self.k):\n",
    "                self.classes[i] = []\n",
    "\n",
    "            #find the distance between the point and cluster; choose the nearest centroid\n",
    "            for features in data:\n",
    "                distances = [self.Euclidean_distance(features, self.centroids[centroid]) for centroid in self.centroids]\n",
    "                classification = distances.index(min(distances))\n",
    "                self.classes[classification].append(features)\n",
    "\n",
    "            #average the cluster datapoints to re-calculate the centroids\n",
    "            for classification in self.classes:\n",
    "                self.centroids[classification] = np.average(self.classes[classification], axis = 0)#average an array\n",
    "            \n",
    "        return self.classes\n"
   ]
  },
  {
   "cell_type": "code",
   "execution_count": null,
   "metadata": {},
   "outputs": [],
   "source": [
    "#1 Initialize the centroids\n",
    "#2 Loop\n",
    "#3 Calculate the classes and re calculate the centroids\n",
    "#4 self.centroids keep and update the centroids data and can not be reassigned. But self. classes can be re assigned\n",
    "#5 return self.classes"
   ]
  },
  {
   "cell_type": "code",
   "execution_count": 29,
   "metadata": {},
   "outputs": [],
   "source": [
    "#so I need to practice "
   ]
  },
  {
   "cell_type": "code",
   "execution_count": 43,
   "metadata": {},
   "outputs": [],
   "source": [
    "df = pd.read_csv(r\".\\data\\ipl.csv\")"
   ]
  },
  {
   "cell_type": "code",
   "execution_count": 44,
   "metadata": {},
   "outputs": [],
   "source": [
    "df = df[['one', 'two']]"
   ]
  },
  {
   "cell_type": "code",
   "execution_count": 45,
   "metadata": {},
   "outputs": [],
   "source": [
    "X = df.values"
   ]
  },
  {
   "cell_type": "code",
   "execution_count": 46,
   "metadata": {},
   "outputs": [],
   "source": [
    "km = K_Means(3)"
   ]
  },
  {
   "cell_type": "code",
   "execution_count": 47,
   "metadata": {},
   "outputs": [
    {
     "data": {
      "text/plain": [
       "{0: [array([0.22767982, 0.85820415]),\n",
       "  array([0.0581324 , 0.52809798]),\n",
       "  array([0.04578654, 0.91857895]),\n",
       "  array([0.01850393, 0.88652292]),\n",
       "  array([0.06942298, 0.85812767]),\n",
       "  array([0.08497508, 0.99112246]),\n",
       "  array([0.03563268, 0.58747382]),\n",
       "  array([0.00559106, 0.7325277 ]),\n",
       "  array([0.0134452 , 0.50168543]),\n",
       "  array([0.29440819, 0.69865184]),\n",
       "  array([0.00175186, 0.57179319]),\n",
       "  array([0.3078315, 0.8873374]),\n",
       "  array([0.07527233, 0.52224538]),\n",
       "  array([0.05200194, 0.93592772]),\n",
       "  array([0.06508554, 0.95788256]),\n",
       "  array([0.1434226 , 0.69115503]),\n",
       "  array([0.09883778, 0.62611036]),\n",
       "  array([0.28369001, 0.80010687]),\n",
       "  array([0.21885608, 0.91129057]),\n",
       "  array([0.21326108, 0.67352195]),\n",
       "  array([0.00712644, 0.92559927]),\n",
       "  array([0.15755852, 0.79832911]),\n",
       "  array([0.11119696, 0.80960918]),\n",
       "  array([0.16583791, 0.86142626]),\n",
       "  array([0.06012137, 0.8400569 ]),\n",
       "  array([0.07123126, 0.61004474])],\n",
       " 1: [array([0.97918822, 0.07715065]),\n",
       "  array([0.77534302, 0.21792169]),\n",
       "  array([0.58576994, 0.05803225]),\n",
       "  array([0.88606507, 0.23956402]),\n",
       "  array([0.64428586, 0.10730211]),\n",
       "  array([0.60071795, 0.0465607 ]),\n",
       "  array([0.65750045, 0.05025199]),\n",
       "  array([0.74352735, 0.06386612]),\n",
       "  array([0.92022078, 0.22637577]),\n",
       "  array([0.758129  , 0.19708612]),\n",
       "  array([0.84201324, 0.21490523]),\n",
       "  array([0.81483483, 0.16192164]),\n",
       "  array([0.86314456, 0.06988288]),\n",
       "  array([0.70993462, 0.17850562]),\n",
       "  array([0.93502506, 0.16491008]),\n",
       "  array([0.80922928, 0.29198518]),\n",
       "  array([0.51188718, 0.00051557]),\n",
       "  array([0.70447078, 0.26733186]),\n",
       "  array([0.83377219, 0.02773394]),\n",
       "  array([0.87117996, 0.11348521]),\n",
       "  array([0.68620349, 0.23187688])],\n",
       " 2: [array([0.5045766 , 0.55311441]),\n",
       "  array([0.55042383, 0.47085982]),\n",
       "  array([0.70907217, 0.58187366]),\n",
       "  array([0.60363873, 0.66558385]),\n",
       "  array([0.60473874, 0.27810958]),\n",
       "  array([0.75898912, 0.51202678]),\n",
       "  array([0.60331259, 0.53647926]),\n",
       "  array([0.64343051, 0.46461982]),\n",
       "  array([0.61190566, 0.49526564]),\n",
       "  array([0.6464662 , 0.71483652]),\n",
       "  array([0.60867954, 0.47863248]),\n",
       "  array([0.50777585, 0.2952284 ]),\n",
       "  array([0.77913749, 0.49180667]),\n",
       "  array([0.54860594, 0.5077936 ]),\n",
       "  array([0.53311287, 0.21439387]),\n",
       "  array([0.46750149, 0.52710359]),\n",
       "  array([0.18676782, 0.5070095 ]),\n",
       "  array([0.64215443, 0.63481274]),\n",
       "  array([0.69437997, 0.55707599]),\n",
       "  array([0.52603056, 0.11168162]),\n",
       "  array([0.50327806, 0.75083599]),\n",
       "  array([0.66409905, 0.77306242]),\n",
       "  array([0.69900126, 0.59815354]),\n",
       "  array([0.57100431, 0.63274735]),\n",
       "  array([0.62945838, 0.27098232]),\n",
       "  array([0.71190988, 0.45341554]),\n",
       "  array([0.68932078, 0.66871515]),\n",
       "  array([0.56164201, 0.1508424 ]),\n",
       "  array([0.62220603, 0.56172191]),\n",
       "  array([0.25948656, 0.56345181]),\n",
       "  array([0.46927064, 0.51003236]),\n",
       "  array([0.54631815, 0.51710596]),\n",
       "  array([0.56254379, 0.16666468]),\n",
       "  array([0.491552  , 0.63987841]),\n",
       "  array([0.5231896 , 0.46037966]),\n",
       "  array([0.26500836, 0.59801762]),\n",
       "  array([0.58128534, 0.2286503 ]),\n",
       "  array([0.52210466, 0.72158914]),\n",
       "  array([0.50682057, 0.55254895]),\n",
       "  array([0.77515337, 0.53316142])]}"
      ]
     },
     "execution_count": 47,
     "metadata": {},
     "output_type": "execute_result"
    }
   ],
   "source": [
    "km.fit(X)"
   ]
  },
  {
   "cell_type": "code",
   "execution_count": null,
   "metadata": {},
   "outputs": [],
   "source": []
  }
 ],
 "metadata": {
  "kernelspec": {
   "display_name": "Python 3",
   "language": "python",
   "name": "python3"
  },
  "language_info": {
   "codemirror_mode": {
    "name": "ipython",
    "version": 3
   },
   "file_extension": ".py",
   "mimetype": "text/x-python",
   "name": "python",
   "nbconvert_exporter": "python",
   "pygments_lexer": "ipython3",
   "version": "3.6.8"
  }
 },
 "nbformat": 4,
 "nbformat_minor": 2
}
