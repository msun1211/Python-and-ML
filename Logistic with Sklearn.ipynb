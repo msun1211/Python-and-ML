{
 "cells": [
  {
   "cell_type": "markdown",
   "metadata": {},
   "source": [
    "# Logistic Regression with Python\n",
    "\n",
    "For this lecture we will be working with the [Titanic Data Set from Kaggle](https://www.kaggle.com/c/titanic). This is a very famous data set and very often is a student's first step in machine learning! \n",
    "\n",
    "## Import Libraries\n",
    "Let's import some libraries to get started!"
   ]
  },
  {
   "cell_type": "code",
   "execution_count": 1,
   "metadata": {},
   "outputs": [],
   "source": [
    "import pandas as pd\n",
    "import numpy as np\n",
    "import matplotlib.pyplot as plt\n",
    "import seaborn as sns\n",
    "%matplotlib inline"
   ]
  },
  {
   "cell_type": "code",
   "execution_count": 2,
   "metadata": {},
   "outputs": [],
   "source": [
    "train = pd.read_csv('titanic_train.csv')"
   ]
  },
  {
   "cell_type": "code",
   "execution_count": 3,
   "metadata": {},
   "outputs": [
    {
     "data": {
      "text/html": [
       "<div>\n",
       "<style scoped>\n",
       "    .dataframe tbody tr th:only-of-type {\n",
       "        vertical-align: middle;\n",
       "    }\n",
       "\n",
       "    .dataframe tbody tr th {\n",
       "        vertical-align: top;\n",
       "    }\n",
       "\n",
       "    .dataframe thead th {\n",
       "        text-align: right;\n",
       "    }\n",
       "</style>\n",
       "<table border=\"1\" class=\"dataframe\">\n",
       "  <thead>\n",
       "    <tr style=\"text-align: right;\">\n",
       "      <th></th>\n",
       "      <th>PassengerId</th>\n",
       "      <th>Survived</th>\n",
       "      <th>Pclass</th>\n",
       "      <th>Name</th>\n",
       "      <th>Sex</th>\n",
       "      <th>Age</th>\n",
       "      <th>SibSp</th>\n",
       "      <th>Parch</th>\n",
       "      <th>Ticket</th>\n",
       "      <th>Fare</th>\n",
       "      <th>Embarked</th>\n",
       "    </tr>\n",
       "  </thead>\n",
       "  <tbody>\n",
       "    <tr>\n",
       "      <td>0</td>\n",
       "      <td>1</td>\n",
       "      <td>0</td>\n",
       "      <td>3</td>\n",
       "      <td>Braund, Mr. Owen Harris</td>\n",
       "      <td>male</td>\n",
       "      <td>22.0</td>\n",
       "      <td>1</td>\n",
       "      <td>0</td>\n",
       "      <td>A/5 21171</td>\n",
       "      <td>7.2500</td>\n",
       "      <td>S</td>\n",
       "    </tr>\n",
       "    <tr>\n",
       "      <td>1</td>\n",
       "      <td>2</td>\n",
       "      <td>1</td>\n",
       "      <td>1</td>\n",
       "      <td>Cumings, Mrs. John Bradley (Florence Briggs Th...</td>\n",
       "      <td>female</td>\n",
       "      <td>38.0</td>\n",
       "      <td>1</td>\n",
       "      <td>0</td>\n",
       "      <td>PC 17599</td>\n",
       "      <td>71.2833</td>\n",
       "      <td>C</td>\n",
       "    </tr>\n",
       "    <tr>\n",
       "      <td>2</td>\n",
       "      <td>3</td>\n",
       "      <td>1</td>\n",
       "      <td>3</td>\n",
       "      <td>Heikkinen, Miss. Laina</td>\n",
       "      <td>female</td>\n",
       "      <td>26.0</td>\n",
       "      <td>0</td>\n",
       "      <td>0</td>\n",
       "      <td>STON/O2. 3101282</td>\n",
       "      <td>7.9250</td>\n",
       "      <td>S</td>\n",
       "    </tr>\n",
       "    <tr>\n",
       "      <td>3</td>\n",
       "      <td>4</td>\n",
       "      <td>1</td>\n",
       "      <td>1</td>\n",
       "      <td>Futrelle, Mrs. Jacques Heath (Lily May Peel)</td>\n",
       "      <td>female</td>\n",
       "      <td>35.0</td>\n",
       "      <td>1</td>\n",
       "      <td>0</td>\n",
       "      <td>113803</td>\n",
       "      <td>53.1000</td>\n",
       "      <td>S</td>\n",
       "    </tr>\n",
       "    <tr>\n",
       "      <td>4</td>\n",
       "      <td>5</td>\n",
       "      <td>0</td>\n",
       "      <td>3</td>\n",
       "      <td>Allen, Mr. William Henry</td>\n",
       "      <td>male</td>\n",
       "      <td>35.0</td>\n",
       "      <td>0</td>\n",
       "      <td>0</td>\n",
       "      <td>373450</td>\n",
       "      <td>8.0500</td>\n",
       "      <td>S</td>\n",
       "    </tr>\n",
       "  </tbody>\n",
       "</table>\n",
       "</div>"
      ],
      "text/plain": [
       "   PassengerId  Survived  Pclass  \\\n",
       "0            1         0       3   \n",
       "1            2         1       1   \n",
       "2            3         1       3   \n",
       "3            4         1       1   \n",
       "4            5         0       3   \n",
       "\n",
       "                                                Name     Sex   Age  SibSp  \\\n",
       "0                            Braund, Mr. Owen Harris    male  22.0      1   \n",
       "1  Cumings, Mrs. John Bradley (Florence Briggs Th...  female  38.0      1   \n",
       "2                             Heikkinen, Miss. Laina  female  26.0      0   \n",
       "3       Futrelle, Mrs. Jacques Heath (Lily May Peel)  female  35.0      1   \n",
       "4                           Allen, Mr. William Henry    male  35.0      0   \n",
       "\n",
       "   Parch            Ticket     Fare Embarked  \n",
       "0      0         A/5 21171   7.2500        S  \n",
       "1      0          PC 17599  71.2833        C  \n",
       "2      0  STON/O2. 3101282   7.9250        S  \n",
       "3      0            113803  53.1000        S  \n",
       "4      0            373450   8.0500        S  "
      ]
     },
     "execution_count": 3,
     "metadata": {},
     "output_type": "execute_result"
    }
   ],
   "source": [
    "train.head()"
   ]
  },
  {
   "cell_type": "markdown",
   "metadata": {},
   "source": [
    "#### survival\tSurvival\t0 = No, 1 = Yes\n",
    "#### pclass\tTicket class\t1 = 1st, 2 = 2nd, 3 = 3rd\n",
    "#### sex\tSex\t\n",
    "#### Age\tAge in years\t\n",
    "#### sibsp\t# of siblings / spouses aboard the Titanic\t\n",
    "#### parch\t# of parents / children aboard the Titanic\t\n",
    "#### ticket\tTicket number\t\n",
    "#### fare\tPassenger fare\t\n",
    "#### embarked\tPort of Embarkation\tC = Cherbourg, Q = Queenstown, S = Southampton"
   ]
  },
  {
   "cell_type": "code",
   "execution_count": 4,
   "metadata": {},
   "outputs": [
    {
     "data": {
      "text/plain": [
       "PassengerId      0\n",
       "Survived         0\n",
       "Pclass           0\n",
       "Name             0\n",
       "Sex              0\n",
       "Age            177\n",
       "SibSp            0\n",
       "Parch            0\n",
       "Ticket           0\n",
       "Fare             0\n",
       "Embarked         2\n",
       "dtype: int64"
      ]
     },
     "execution_count": 4,
     "metadata": {},
     "output_type": "execute_result"
    }
   ],
   "source": [
    "train.isna().sum()"
   ]
  },
  {
   "cell_type": "code",
   "execution_count": 5,
   "metadata": {},
   "outputs": [
    {
     "data": {
      "text/plain": [
       "<matplotlib.axes._subplots.AxesSubplot at 0x20697d10048>"
      ]
     },
     "execution_count": 5,
     "metadata": {},
     "output_type": "execute_result"
    },
    {
     "data": {
      "image/png": "[encoded data removed]",
      "text/plain": [
       "<Figure size 432x288 with 1 Axes>"
      ]
     },
     "metadata": {},
     "output_type": "display_data"
    }
   ],
   "source": [
    "sns.set_style('whitegrid')\n",
    "sns.countplot(x='Survived',hue='Sex',data=train)"
   ]
  },
  {
   "cell_type": "code",
   "execution_count": 6,
   "metadata": {},
   "outputs": [
    {
     "data": {
      "text/plain": [
       "<matplotlib.axes._subplots.AxesSubplot at 0x20698017d68>"
      ]
     },
     "execution_count": 6,
     "metadata": {},
     "output_type": "execute_result"
    },
    {
     "data": {
      "image/png": "[encoded data removed]",
      "text/plain": [
       "<Figure size 432x288 with 1 Axes>"
      ]
     },
     "metadata": {},
     "output_type": "display_data"
    }
   ],
   "source": [
    "sns.set_style('whitegrid')\n",
    "sns.countplot(x='Survived',hue='Pclass',data=train)"
   ]
  },
  {
   "cell_type": "code",
   "execution_count": 7,
   "metadata": {},
   "outputs": [
    {
     "data": {
      "text/plain": [
       "<matplotlib.axes._subplots.AxesSubplot at 0x206980b25f8>"
      ]
     },
     "execution_count": 7,
     "metadata": {},
     "output_type": "execute_result"
    },
    {
     "data": {
      "image/png": "[encoded data removed]",
      "text/plain": [
       "<Figure size 432x288 with 1 Axes>"
      ]
     },
     "metadata": {},
     "output_type": "display_data"
    }
   ],
   "source": [
    "sns.distplot(train['Age'].dropna(),kde=False,color='darkred',bins=30)"
   ]
  },
  {
   "cell_type": "code",
   "execution_count": 8,
   "metadata": {},
   "outputs": [
    {
     "data": {
      "text/plain": [
       "<matplotlib.axes._subplots.AxesSubplot at 0x2069810f390>"
      ]
     },
     "execution_count": 8,
     "metadata": {},
     "output_type": "execute_result"
    },
    {
     "data": {
      "image/png": "[encoded data removed]",
      "text/plain": [
       "<Figure size 432x288 with 1 Axes>"
      ]
     },
     "metadata": {},
     "output_type": "display_data"
    }
   ],
   "source": [
    "sns.countplot(x='Survived',hue='Embarked',data=train)"
   ]
  },
  {
   "cell_type": "code",
   "execution_count": 9,
   "metadata": {},
   "outputs": [],
   "source": [
    "train['Age'].fillna(train['Age'].median(), inplace=True)"
   ]
  },
  {
   "cell_type": "code",
   "execution_count": 10,
   "metadata": {},
   "outputs": [
    {
     "data": {
      "text/plain": [
       "PassengerId    0\n",
       "Survived       0\n",
       "Pclass         0\n",
       "Name           0\n",
       "Sex            0\n",
       "Age            0\n",
       "SibSp          0\n",
       "Parch          0\n",
       "Ticket         0\n",
       "Fare           0\n",
       "Embarked       2\n",
       "dtype: int64"
      ]
     },
     "execution_count": 10,
     "metadata": {},
     "output_type": "execute_result"
    }
   ],
   "source": [
    "train.isna().sum()"
   ]
  },
  {
   "cell_type": "code",
   "execution_count": 11,
   "metadata": {},
   "outputs": [],
   "source": [
    "train.dropna(inplace=True)"
   ]
  },
  {
   "cell_type": "markdown",
   "metadata": {},
   "source": [
    "## Converting Categorical Features"
   ]
  },
  {
   "cell_type": "code",
   "execution_count": 12,
   "metadata": {},
   "outputs": [
    {
     "name": "stdout",
     "output_type": "stream",
     "text": [
      "<class 'pandas.core.frame.DataFrame'>\n",
      "Int64Index: 889 entries, 0 to 890\n",
      "Data columns (total 11 columns):\n",
      "PassengerId    889 non-null int64\n",
      "Survived       889 non-null int64\n",
      "Pclass         889 non-null int64\n",
      "Name           889 non-null object\n",
      "Sex            889 non-null object\n",
      "Age            889 non-null float64\n",
      "SibSp          889 non-null int64\n",
      "Parch          889 non-null int64\n",
      "Ticket         889 non-null object\n",
      "Fare           889 non-null float64\n",
      "Embarked       889 non-null object\n",
      "dtypes: float64(2), int64(5), object(4)\n",
      "memory usage: 83.3+ KB\n"
     ]
    }
   ],
   "source": [
    "train.info()"
   ]
  },
  {
   "cell_type": "code",
   "execution_count": 13,
   "metadata": {},
   "outputs": [],
   "source": [
    "sex = pd.get_dummies(train['Sex'],drop_first=True)\n",
    "embark = pd.get_dummies(train['Embarked'],drop_first=True)"
   ]
  },
  {
   "cell_type": "code",
   "execution_count": 14,
   "metadata": {},
   "outputs": [],
   "source": [
    "train.drop(['Sex','Embarked','Name','Ticket'],axis=1,inplace=True)"
   ]
  },
  {
   "cell_type": "code",
   "execution_count": 15,
   "metadata": {},
   "outputs": [],
   "source": [
    "train = pd.concat([train,sex,embark],axis=1)"
   ]
  },
  {
   "cell_type": "code",
   "execution_count": 16,
   "metadata": {},
   "outputs": [
    {
     "data": {
      "text/html": [
       "<div>\n",
       "<style scoped>\n",
       "    .dataframe tbody tr th:only-of-type {\n",
       "        vertical-align: middle;\n",
       "    }\n",
       "\n",
       "    .dataframe tbody tr th {\n",
       "        vertical-align: top;\n",
       "    }\n",
       "\n",
       "    .dataframe thead th {\n",
       "        text-align: right;\n",
       "    }\n",
       "</style>\n",
       "<table border=\"1\" class=\"dataframe\">\n",
       "  <thead>\n",
       "    <tr style=\"text-align: right;\">\n",
       "      <th></th>\n",
       "      <th>PassengerId</th>\n",
       "      <th>Survived</th>\n",
       "      <th>Pclass</th>\n",
       "      <th>Age</th>\n",
       "      <th>SibSp</th>\n",
       "      <th>Parch</th>\n",
       "      <th>Fare</th>\n",
       "      <th>male</th>\n",
       "      <th>Q</th>\n",
       "      <th>S</th>\n",
       "    </tr>\n",
       "  </thead>\n",
       "  <tbody>\n",
       "    <tr>\n",
       "      <td>0</td>\n",
       "      <td>1</td>\n",
       "      <td>0</td>\n",
       "      <td>3</td>\n",
       "      <td>22.0</td>\n",
       "      <td>1</td>\n",
       "      <td>0</td>\n",
       "      <td>7.2500</td>\n",
       "      <td>1</td>\n",
       "      <td>0</td>\n",
       "      <td>1</td>\n",
       "    </tr>\n",
       "    <tr>\n",
       "      <td>1</td>\n",
       "      <td>2</td>\n",
       "      <td>1</td>\n",
       "      <td>1</td>\n",
       "      <td>38.0</td>\n",
       "      <td>1</td>\n",
       "      <td>0</td>\n",
       "      <td>71.2833</td>\n",
       "      <td>0</td>\n",
       "      <td>0</td>\n",
       "      <td>0</td>\n",
       "    </tr>\n",
       "    <tr>\n",
       "      <td>2</td>\n",
       "      <td>3</td>\n",
       "      <td>1</td>\n",
       "      <td>3</td>\n",
       "      <td>26.0</td>\n",
       "      <td>0</td>\n",
       "      <td>0</td>\n",
       "      <td>7.9250</td>\n",
       "      <td>0</td>\n",
       "      <td>0</td>\n",
       "      <td>1</td>\n",
       "    </tr>\n",
       "    <tr>\n",
       "      <td>3</td>\n",
       "      <td>4</td>\n",
       "      <td>1</td>\n",
       "      <td>1</td>\n",
       "      <td>35.0</td>\n",
       "      <td>1</td>\n",
       "      <td>0</td>\n",
       "      <td>53.1000</td>\n",
       "      <td>0</td>\n",
       "      <td>0</td>\n",
       "      <td>1</td>\n",
       "    </tr>\n",
       "    <tr>\n",
       "      <td>4</td>\n",
       "      <td>5</td>\n",
       "      <td>0</td>\n",
       "      <td>3</td>\n",
       "      <td>35.0</td>\n",
       "      <td>0</td>\n",
       "      <td>0</td>\n",
       "      <td>8.0500</td>\n",
       "      <td>1</td>\n",
       "      <td>0</td>\n",
       "      <td>1</td>\n",
       "    </tr>\n",
       "  </tbody>\n",
       "</table>\n",
       "</div>"
      ],
      "text/plain": [
       "   PassengerId  Survived  Pclass   Age  SibSp  Parch     Fare  male  Q  S\n",
       "0            1         0       3  22.0      1      0   7.2500     1  0  1\n",
       "1            2         1       1  38.0      1      0  71.2833     0  0  0\n",
       "2            3         1       3  26.0      0      0   7.9250     0  0  1\n",
       "3            4         1       1  35.0      1      0  53.1000     0  0  1\n",
       "4            5         0       3  35.0      0      0   8.0500     1  0  1"
      ]
     },
     "execution_count": 16,
     "metadata": {},
     "output_type": "execute_result"
    }
   ],
   "source": [
    "train.head()"
   ]
  },
  {
   "cell_type": "markdown",
   "metadata": {},
   "source": [
    "## Build a logistic regression"
   ]
  },
  {
   "cell_type": "code",
   "execution_count": 17,
   "metadata": {},
   "outputs": [],
   "source": [
    "#https://scikit-learn.org/stable/modules/generated/sklearn.linear_model.LogisticRegression.html"
   ]
  },
  {
   "cell_type": "code",
   "execution_count": 18,
   "metadata": {},
   "outputs": [],
   "source": [
    "from sklearn.model_selection import train_test_split"
   ]
  },
  {
   "cell_type": "code",
   "execution_count": 19,
   "metadata": {},
   "outputs": [],
   "source": [
    "X_train, X_test, y_train, y_test = train_test_split(train.drop('Survived',axis=1), \n",
    "                                                    train['Survived'], test_size=0.30, \n",
    "                                                    random_state=101)"
   ]
  },
  {
   "cell_type": "code",
   "execution_count": 20,
   "metadata": {},
   "outputs": [],
   "source": [
    "from sklearn.linear_model import LogisticRegression"
   ]
  },
  {
   "cell_type": "code",
   "execution_count": 21,
   "metadata": {},
   "outputs": [],
   "source": [
    "logmodel = LogisticRegression(penalty = 'l1')"
   ]
  },
  {
   "cell_type": "code",
   "execution_count": 22,
   "metadata": {},
   "outputs": [
    {
     "name": "stderr",
     "output_type": "stream",
     "text": [
      "C:\\Anaconda\\lib\\site-packages\\sklearn\\linear_model\\logistic.py:432: FutureWarning: Default solver will be changed to 'lbfgs' in 0.22. Specify a solver to silence this warning.\n",
      "  FutureWarning)\n"
     ]
    },
    {
     "data": {
      "text/plain": [
       "LogisticRegression(C=1.0, class_weight=None, dual=False, fit_intercept=True,\n",
       "                   intercept_scaling=1, l1_ratio=None, max_iter=100,\n",
       "                   multi_class='warn', n_jobs=None, penalty='l1',\n",
       "                   random_state=None, solver='warn', tol=0.0001, verbose=0,\n",
       "                   warm_start=False)"
      ]
     },
     "execution_count": 22,
     "metadata": {},
     "output_type": "execute_result"
    }
   ],
   "source": [
    "logmodel.fit(X_train,y_train)"
   ]
  },
  {
   "cell_type": "code",
   "execution_count": 29,
   "metadata": {},
   "outputs": [
    {
     "data": {
      "text/plain": [
       "array([[ 2.29007770e-04, -9.39087567e-01, -3.32392488e-02,\n",
       "        -2.19772821e-01, -9.35851919e-02,  2.74112495e-03,\n",
       "        -2.49833983e+00,  0.00000000e+00, -2.42976186e-01]])"
      ]
     },
     "execution_count": 29,
     "metadata": {},
     "output_type": "execute_result"
    }
   ],
   "source": [
    "logmodel.coef_"
   ]
  },
  {
   "cell_type": "code",
   "execution_count": 30,
   "metadata": {},
   "outputs": [
    {
     "data": {
      "text/plain": [
       "array([4.20726071])"
      ]
     },
     "execution_count": 30,
     "metadata": {},
     "output_type": "execute_result"
    }
   ],
   "source": [
    "logmodel.intercept_"
   ]
  },
  {
   "cell_type": "code",
   "execution_count": 23,
   "metadata": {},
   "outputs": [],
   "source": [
    "predictions = logmodel.predict(X_test)"
   ]
  },
  {
   "cell_type": "code",
   "execution_count": 24,
   "metadata": {},
   "outputs": [
    {
     "data": {
      "text/plain": [
       "array([0, 0, 1, 1, 0, 0, 0, 0, 0, 1, 1, 1, 0, 1, 0, 0, 1, 1, 1, 0, 0, 0,\n",
       "       0, 0, 0, 0, 1, 1, 0, 0, 0, 0, 0, 0, 0, 0, 1, 0, 0, 0, 1, 0, 0, 1,\n",
       "       1, 0, 1, 1, 0, 0, 0, 1, 0, 0, 0, 0, 0, 0, 0, 1, 1, 1, 1, 0, 0, 0,\n",
       "       0, 0, 0, 0, 0, 0, 1, 1, 0, 1, 0, 0, 0, 0, 0, 0, 0, 0, 0, 1, 0, 1,\n",
       "       0, 1, 1, 1, 0, 0, 0, 1, 1, 0, 0, 1, 0, 1, 0, 0, 1, 0, 1, 0, 0, 0,\n",
       "       0, 0, 1, 1, 0, 1, 0, 0, 1, 1, 0, 0, 0, 0, 0, 0, 1, 0, 1, 1, 0, 0,\n",
       "       1, 1, 0, 0, 0, 0, 1, 0, 0, 0, 0, 0, 0, 1, 0, 0, 0, 1, 0, 1, 1, 1,\n",
       "       0, 0, 0, 0, 1, 0, 0, 0, 0, 1, 0, 0, 0, 0, 0, 0, 1, 0, 1, 0, 0, 0,\n",
       "       0, 0, 1, 0, 1, 0, 0, 1, 0, 1, 1, 0, 0, 0, 0, 0, 1, 0, 0, 0, 1, 0,\n",
       "       0, 0, 0, 0, 1, 0, 1, 0, 0, 0, 0, 0, 0, 0, 1, 0, 0, 1, 1, 0, 0, 0,\n",
       "       1, 0, 0, 0, 1, 0, 0, 1, 0, 0, 1, 0, 0, 0, 1, 1, 1, 0, 1, 0, 0, 0,\n",
       "       0, 0, 1, 0, 0, 0, 1, 1, 0, 1, 0, 0, 0, 0, 0, 0, 0, 1, 1, 0, 0, 0,\n",
       "       0, 1, 1], dtype=int64)"
      ]
     },
     "execution_count": 24,
     "metadata": {},
     "output_type": "execute_result"
    }
   ],
   "source": [
    "predictions"
   ]
  },
  {
   "cell_type": "code",
   "execution_count": 25,
   "metadata": {},
   "outputs": [],
   "source": [
    "predictions_proba = logmodel.predict_proba(X_test)"
   ]
  },
  {
   "cell_type": "code",
   "execution_count": 26,
   "metadata": {},
   "outputs": [
    {
     "data": {
      "text/plain": [
       "array([[0.89498455, 0.10501545],\n",
       "       [0.8672876 , 0.1327124 ],\n",
       "       [0.23135674, 0.76864326],\n",
       "       [0.0869506 , 0.9130494 ],\n",
       "       [0.86198753, 0.13801247],\n",
       "       [0.95847278, 0.04152722],\n",
       "       [0.87410645, 0.12589355],\n",
       "       [0.7820783 , 0.2179217 ],\n",
       "       [0.91307607, 0.08692393],\n",
       "       [0.41643304, 0.58356696],\n",
       "       [0.21486186, 0.78513814],\n",
       "       [0.06103193, 0.93896807],\n",
       "       [0.89186318, 0.10813682],\n",
       "       [0.44108251, 0.55891749],\n",
       "       [0.88664986, 0.11335014],\n",
       "       [0.8638662 , 0.1361338 ],\n",
       "       [0.09150106, 0.90849894],\n",
       "       [0.17053554, 0.82946446],\n",
       "       [0.44875508, 0.55124492],\n",
       "       [0.89598549, 0.10401451],\n",
       "       [0.90219542, 0.09780458],\n",
       "       [0.91170361, 0.08829639],\n",
       "       [0.55581396, 0.44418604],\n",
       "       [0.70421049, 0.29578951],\n",
       "       [0.93689636, 0.06310364],\n",
       "       [0.56924981, 0.43075019],\n",
       "       [0.44491215, 0.55508785],\n",
       "       [0.44864212, 0.55135788],\n",
       "       [0.89197726, 0.10802274],\n",
       "       [0.72317416, 0.27682584],\n",
       "       [0.90035254, 0.09964746],\n",
       "       [0.68557123, 0.31442877],\n",
       "       [0.98133561, 0.01866439],\n",
       "       [0.89509973, 0.10490027],\n",
       "       [0.88190282, 0.11809718],\n",
       "       [0.86996655, 0.13003345],\n",
       "       [0.27125767, 0.72874233],\n",
       "       [0.92864714, 0.07135286],\n",
       "       [0.88733146, 0.11266854],\n",
       "       [0.86677692, 0.13322308],\n",
       "       [0.42918751, 0.57081249],\n",
       "       [0.84378214, 0.15621786],\n",
       "       [0.87373186, 0.12626814],\n",
       "       [0.0903063 , 0.9096937 ],\n",
       "       [0.35632703, 0.64367297],\n",
       "       [0.87449448, 0.12550552],\n",
       "       [0.38800504, 0.61199496],\n",
       "       [0.13459039, 0.86540961],\n",
       "       [0.8897533 , 0.1102467 ],\n",
       "       [0.72636272, 0.27363728],\n",
       "       [0.55783069, 0.44216931],\n",
       "       [0.20059413, 0.79940587],\n",
       "       [0.84130467, 0.15869533],\n",
       "       [0.85671561, 0.14328439],\n",
       "       [0.89307465, 0.10692535],\n",
       "       [0.92876055, 0.07123945],\n",
       "       [0.59799536, 0.40200464],\n",
       "       [0.90841506, 0.09158494],\n",
       "       [0.89019683, 0.10980317],\n",
       "       [0.07401012, 0.92598988],\n",
       "       [0.41949712, 0.58050288],\n",
       "       [0.06963891, 0.93036109],\n",
       "       [0.11510961, 0.88489039],\n",
       "       [0.89607167, 0.10392833],\n",
       "       [0.82555043, 0.17444957],\n",
       "       [0.94687923, 0.05312077],\n",
       "       [0.87965814, 0.12034186],\n",
       "       [0.59957529, 0.40042471],\n",
       "       [0.94257814, 0.05742186],\n",
       "       [0.89404469, 0.10595531],\n",
       "       [0.65886087, 0.34113913],\n",
       "       [0.88192129, 0.11807871],\n",
       "       [0.3723923 , 0.6276077 ],\n",
       "       [0.11917369, 0.88082631],\n",
       "       [0.90993402, 0.09006598],\n",
       "       [0.35539622, 0.64460378],\n",
       "       [0.91812637, 0.08187363],\n",
       "       [0.86083924, 0.13916076],\n",
       "       [0.90745778, 0.09254222],\n",
       "       [0.75478502, 0.24521498],\n",
       "       [0.69209471, 0.30790529],\n",
       "       [0.62327379, 0.37672621],\n",
       "       [0.52463312, 0.47536688],\n",
       "       [0.87798708, 0.12201292],\n",
       "       [0.75420509, 0.24579491],\n",
       "       [0.36040291, 0.63959709],\n",
       "       [0.92020523, 0.07979477],\n",
       "       [0.14346377, 0.85653623],\n",
       "       [0.88653977, 0.11346023],\n",
       "       [0.11126521, 0.88873479],\n",
       "       [0.42650907, 0.57349093],\n",
       "       [0.47627519, 0.52372481],\n",
       "       [0.90933487, 0.09066513],\n",
       "       [0.92785553, 0.07214447],\n",
       "       [0.69626172, 0.30373828],\n",
       "       [0.08913758, 0.91086242],\n",
       "       [0.29513765, 0.70486235],\n",
       "       [0.69323191, 0.30676809],\n",
       "       [0.88158751, 0.11841249],\n",
       "       [0.23233395, 0.76766605],\n",
       "       [0.8774448 , 0.1225552 ],\n",
       "       [0.13167551, 0.86832449],\n",
       "       [0.86255225, 0.13744775],\n",
       "       [0.83765548, 0.16234452],\n",
       "       [0.41430193, 0.58569807],\n",
       "       [0.90343361, 0.09656639],\n",
       "       [0.06036262, 0.93963738],\n",
       "       [0.59215476, 0.40784524],\n",
       "       [0.76034799, 0.23965201],\n",
       "       [0.57290354, 0.42709646],\n",
       "       [0.93184034, 0.06815966],\n",
       "       [0.58932094, 0.41067906],\n",
       "       [0.14897485, 0.85102515],\n",
       "       [0.23187799, 0.76812201],\n",
       "       [0.90352456, 0.09647544],\n",
       "       [0.09483475, 0.90516525],\n",
       "       [0.8501339 , 0.1498661 ],\n",
       "       [0.87498347, 0.12501653],\n",
       "       [0.24939744, 0.75060256],\n",
       "       [0.20679383, 0.79320617],\n",
       "       [0.54149572, 0.45850428],\n",
       "       [0.8647228 , 0.1352772 ],\n",
       "       [0.88460583, 0.11539417],\n",
       "       [0.84647822, 0.15352178],\n",
       "       [0.87950717, 0.12049283],\n",
       "       [0.73271081, 0.26728919],\n",
       "       [0.27044603, 0.72955397],\n",
       "       [0.51914134, 0.48085866],\n",
       "       [0.15075635, 0.84924365],\n",
       "       [0.23508354, 0.76491646],\n",
       "       [0.79088106, 0.20911894],\n",
       "       [0.68239752, 0.31760248],\n",
       "       [0.07198409, 0.92801591],\n",
       "       [0.45223027, 0.54776973],\n",
       "       [0.92649759, 0.07350241],\n",
       "       [0.91730265, 0.08269735],\n",
       "       [0.92886955, 0.07113045],\n",
       "       [0.87279382, 0.12720618],\n",
       "       [0.48005871, 0.51994129],\n",
       "       [0.85720855, 0.14279145],\n",
       "       [0.92332226, 0.07667774],\n",
       "       [0.87985522, 0.12014478],\n",
       "       [0.77479032, 0.22520968],\n",
       "       [0.87019974, 0.12980026],\n",
       "       [0.53731212, 0.46268788],\n",
       "       [0.41061318, 0.58938682],\n",
       "       [0.86722971, 0.13277029],\n",
       "       [0.66628163, 0.33371837],\n",
       "       [0.72409698, 0.27590302],\n",
       "       [0.19311108, 0.80688892],\n",
       "       [0.89165199, 0.10834801],\n",
       "       [0.26330732, 0.73669268],\n",
       "       [0.35463431, 0.64536569],\n",
       "       [0.20071059, 0.79928941],\n",
       "       [0.85167367, 0.14832633],\n",
       "       [0.75115773, 0.24884227],\n",
       "       [0.57469569, 0.42530431],\n",
       "       [0.92997469, 0.07002531],\n",
       "       [0.13298441, 0.86701559],\n",
       "       [0.7029467 , 0.2970533 ],\n",
       "       [0.86186052, 0.13813948],\n",
       "       [0.89875135, 0.10124865],\n",
       "       [0.90462722, 0.09537278],\n",
       "       [0.46817028, 0.53182972],\n",
       "       [0.89793149, 0.10206851],\n",
       "       [0.62934436, 0.37065564],\n",
       "       [0.78444121, 0.21555879],\n",
       "       [0.9262554 , 0.0737446 ],\n",
       "       [0.7569639 , 0.2430361 ],\n",
       "       [0.77962389, 0.22037611],\n",
       "       [0.36598643, 0.63401357],\n",
       "       [0.76604748, 0.23395252],\n",
       "       [0.18452312, 0.81547688],\n",
       "       [0.69316976, 0.30683024],\n",
       "       [0.86252688, 0.13747312],\n",
       "       [0.88966157, 0.11033843],\n",
       "       [0.70121258, 0.29878742],\n",
       "       [0.81711682, 0.18288318],\n",
       "       [0.05455863, 0.94544137],\n",
       "       [0.60207096, 0.39792904],\n",
       "       [0.37762217, 0.62237783],\n",
       "       [0.90654929, 0.09345071],\n",
       "       [0.65362154, 0.34637846],\n",
       "       [0.34361489, 0.65638511],\n",
       "       [0.88192471, 0.11807529],\n",
       "       [0.3216083 , 0.6783917 ],\n",
       "       [0.19087751, 0.80912249],\n",
       "       [0.81926192, 0.18073808],\n",
       "       [0.90385523, 0.09614477],\n",
       "       [0.8463767 , 0.1536233 ],\n",
       "       [0.88908359, 0.11091641],\n",
       "       [0.58246483, 0.41753517],\n",
       "       [0.3893769 , 0.6106231 ],\n",
       "       [0.8750595 , 0.1249405 ],\n",
       "       [0.84403032, 0.15596968],\n",
       "       [0.77359886, 0.22640114],\n",
       "       [0.29092441, 0.70907559],\n",
       "       [0.93495991, 0.06504009],\n",
       "       [0.92953605, 0.07046395],\n",
       "       [0.55572982, 0.44427018],\n",
       "       [0.60513334, 0.39486666],\n",
       "       [0.60553668, 0.39446332],\n",
       "       [0.06388656, 0.93611344],\n",
       "       [0.87107092, 0.12892908],\n",
       "       [0.36012361, 0.63987639],\n",
       "       [0.892131  , 0.107869  ],\n",
       "       [0.87369297, 0.12630703],\n",
       "       [0.88090769, 0.11909231],\n",
       "       [0.93120404, 0.06879596],\n",
       "       [0.85973037, 0.14026963],\n",
       "       [0.71554298, 0.28445702],\n",
       "       [0.86157831, 0.13842169],\n",
       "       [0.41990697, 0.58009303],\n",
       "       [0.57299368, 0.42700632],\n",
       "       [0.66716011, 0.33283989],\n",
       "       [0.15235709, 0.84764291],\n",
       "       [0.2392931 , 0.7607069 ],\n",
       "       [0.86886252, 0.13113748],\n",
       "       [0.77813673, 0.22186327],\n",
       "       [0.87051784, 0.12948216],\n",
       "       [0.28299894, 0.71700106],\n",
       "       [0.89996174, 0.10003826],\n",
       "       [0.7343917 , 0.2656083 ],\n",
       "       [0.89091977, 0.10908023],\n",
       "       [0.26808611, 0.73191389],\n",
       "       [0.75132365, 0.24867635],\n",
       "       [0.78803176, 0.21196824],\n",
       "       [0.3922063 , 0.6077937 ],\n",
       "       [0.85047013, 0.14952987],\n",
       "       [0.89001632, 0.10998368],\n",
       "       [0.30021278, 0.69978722],\n",
       "       [0.8619252 , 0.1380748 ],\n",
       "       [0.89386003, 0.10613997],\n",
       "       [0.86959612, 0.13040388],\n",
       "       [0.2567723 , 0.7432277 ],\n",
       "       [0.08965994, 0.91034006],\n",
       "       [0.38034126, 0.61965874],\n",
       "       [0.83136571, 0.16863429],\n",
       "       [0.26889314, 0.73110686],\n",
       "       [0.72567283, 0.27432717],\n",
       "       [0.8877534 , 0.1122466 ],\n",
       "       [0.81572668, 0.18427332],\n",
       "       [0.72372397, 0.27627603],\n",
       "       [0.829003  , 0.170997  ],\n",
       "       [0.19024945, 0.80975055],\n",
       "       [0.86784762, 0.13215238],\n",
       "       [0.90442366, 0.09557634],\n",
       "       [0.63321876, 0.36678124],\n",
       "       [0.45222158, 0.54777842],\n",
       "       [0.19289195, 0.80710805],\n",
       "       [0.93422382, 0.06577618],\n",
       "       [0.39299116, 0.60700884],\n",
       "       [0.56385094, 0.43614906],\n",
       "       [0.77290164, 0.22709836],\n",
       "       [0.79268025, 0.20731975],\n",
       "       [0.93635893, 0.06364107],\n",
       "       [0.90656108, 0.09343892],\n",
       "       [0.93685432, 0.06314568],\n",
       "       [0.9411755 , 0.0588245 ],\n",
       "       [0.17231768, 0.82768232],\n",
       "       [0.38666016, 0.61333984],\n",
       "       [0.90601627, 0.09398373],\n",
       "       [0.79523614, 0.20476386],\n",
       "       [0.86151729, 0.13848271],\n",
       "       [0.76405963, 0.23594037],\n",
       "       [0.10241277, 0.89758723],\n",
       "       [0.44441148, 0.55558852]])"
      ]
     },
     "execution_count": 26,
     "metadata": {},
     "output_type": "execute_result"
    }
   ],
   "source": [
    "predictions_proba"
   ]
  },
  {
   "cell_type": "code",
   "execution_count": 27,
   "metadata": {},
   "outputs": [],
   "source": [
    "preds= predictions_proba[:,1]"
   ]
  },
  {
   "cell_type": "code",
   "execution_count": 28,
   "metadata": {},
   "outputs": [
    {
     "data": {
      "text/plain": [
       "array([0.10501545, 0.1327124 , 0.76864326, 0.9130494 , 0.13801247,\n",
       "       0.04152722, 0.12589355, 0.2179217 , 0.08692393, 0.58356696,\n",
       "       0.78513814, 0.93896807, 0.10813682, 0.55891749, 0.11335014,\n",
       "       0.1361338 , 0.90849894, 0.82946446, 0.55124492, 0.10401451,\n",
       "       0.09780458, 0.08829639, 0.44418604, 0.29578951, 0.06310364,\n",
       "       0.43075019, 0.55508785, 0.55135788, 0.10802274, 0.27682584,\n",
       "       0.09964746, 0.31442877, 0.01866439, 0.10490027, 0.11809718,\n",
       "       0.13003345, 0.72874233, 0.07135286, 0.11266854, 0.13322308,\n",
       "       0.57081249, 0.15621786, 0.12626814, 0.9096937 , 0.64367297,\n",
       "       0.12550552, 0.61199496, 0.86540961, 0.1102467 , 0.27363728,\n",
       "       0.44216931, 0.79940587, 0.15869533, 0.14328439, 0.10692535,\n",
       "       0.07123945, 0.40200464, 0.09158494, 0.10980317, 0.92598988,\n",
       "       0.58050288, 0.93036109, 0.88489039, 0.10392833, 0.17444957,\n",
       "       0.05312077, 0.12034186, 0.40042471, 0.05742186, 0.10595531,\n",
       "       0.34113913, 0.11807871, 0.6276077 , 0.88082631, 0.09006598,\n",
       "       0.64460378, 0.08187363, 0.13916076, 0.09254222, 0.24521498,\n",
       "       0.30790529, 0.37672621, 0.47536688, 0.12201292, 0.24579491,\n",
       "       0.63959709, 0.07979477, 0.85653623, 0.11346023, 0.88873479,\n",
       "       0.57349093, 0.52372481, 0.09066513, 0.07214447, 0.30373828,\n",
       "       0.91086242, 0.70486235, 0.30676809, 0.11841249, 0.76766605,\n",
       "       0.1225552 , 0.86832449, 0.13744775, 0.16234452, 0.58569807,\n",
       "       0.09656639, 0.93963738, 0.40784524, 0.23965201, 0.42709646,\n",
       "       0.06815966, 0.41067906, 0.85102515, 0.76812201, 0.09647544,\n",
       "       0.90516525, 0.1498661 , 0.12501653, 0.75060256, 0.79320617,\n",
       "       0.45850428, 0.1352772 , 0.11539417, 0.15352178, 0.12049283,\n",
       "       0.26728919, 0.72955397, 0.48085866, 0.84924365, 0.76491646,\n",
       "       0.20911894, 0.31760248, 0.92801591, 0.54776973, 0.07350241,\n",
       "       0.08269735, 0.07113045, 0.12720618, 0.51994129, 0.14279145,\n",
       "       0.07667774, 0.12014478, 0.22520968, 0.12980026, 0.46268788,\n",
       "       0.58938682, 0.13277029, 0.33371837, 0.27590302, 0.80688892,\n",
       "       0.10834801, 0.73669268, 0.64536569, 0.79928941, 0.14832633,\n",
       "       0.24884227, 0.42530431, 0.07002531, 0.86701559, 0.2970533 ,\n",
       "       0.13813948, 0.10124865, 0.09537278, 0.53182972, 0.10206851,\n",
       "       0.37065564, 0.21555879, 0.0737446 , 0.2430361 , 0.22037611,\n",
       "       0.63401357, 0.23395252, 0.81547688, 0.30683024, 0.13747312,\n",
       "       0.11033843, 0.29878742, 0.18288318, 0.94544137, 0.39792904,\n",
       "       0.62237783, 0.09345071, 0.34637846, 0.65638511, 0.11807529,\n",
       "       0.6783917 , 0.80912249, 0.18073808, 0.09614477, 0.1536233 ,\n",
       "       0.11091641, 0.41753517, 0.6106231 , 0.1249405 , 0.15596968,\n",
       "       0.22640114, 0.70907559, 0.06504009, 0.07046395, 0.44427018,\n",
       "       0.39486666, 0.39446332, 0.93611344, 0.12892908, 0.63987639,\n",
       "       0.107869  , 0.12630703, 0.11909231, 0.06879596, 0.14026963,\n",
       "       0.28445702, 0.13842169, 0.58009303, 0.42700632, 0.33283989,\n",
       "       0.84764291, 0.7607069 , 0.13113748, 0.22186327, 0.12948216,\n",
       "       0.71700106, 0.10003826, 0.2656083 , 0.10908023, 0.73191389,\n",
       "       0.24867635, 0.21196824, 0.6077937 , 0.14952987, 0.10998368,\n",
       "       0.69978722, 0.1380748 , 0.10613997, 0.13040388, 0.7432277 ,\n",
       "       0.91034006, 0.61965874, 0.16863429, 0.73110686, 0.27432717,\n",
       "       0.1122466 , 0.18427332, 0.27627603, 0.170997  , 0.80975055,\n",
       "       0.13215238, 0.09557634, 0.36678124, 0.54777842, 0.80710805,\n",
       "       0.06577618, 0.60700884, 0.43614906, 0.22709836, 0.20731975,\n",
       "       0.06364107, 0.09343892, 0.06314568, 0.0588245 , 0.82768232,\n",
       "       0.61333984, 0.09398373, 0.20476386, 0.13848271, 0.23594037,\n",
       "       0.89758723, 0.55558852])"
      ]
     },
     "execution_count": 28,
     "metadata": {},
     "output_type": "execute_result"
    }
   ],
   "source": [
    "preds"
   ]
  },
  {
   "cell_type": "code",
   "execution_count": 31,
   "metadata": {},
   "outputs": [],
   "source": [
    "import sklearn.metrics as metrics\n",
    "fpr, tpr, threshold = metrics.roc_curve(y_test, preds)\n",
    "roc_auc = metrics.auc(fpr, tpr)"
   ]
  },
  {
   "cell_type": "code",
   "execution_count": 32,
   "metadata": {},
   "outputs": [
    {
     "data": {
      "image/png": "[encoded data removed]",
      "text/plain": [
       "<Figure size 432x288 with 1 Axes>"
      ]
     },
     "metadata": {},
     "output_type": "display_data"
    }
   ],
   "source": [
    "import matplotlib.pyplot as plt\n",
    "plt.title('Receiver Operating Characteristic')\n",
    "plt.plot(fpr, tpr, 'b', label = 'AUC = %0.2f' % roc_auc)\n",
    "plt.legend(loc = 'lower right')\n",
    "plt.plot([0, 1], [0, 1],'r--')\n",
    "plt.xlim([0, 1])\n",
    "plt.ylim([0, 1])\n",
    "plt.ylabel('True Positive Rate')\n",
    "plt.xlabel('False Positive Rate')\n",
    "plt.show()\n"
   ]
  },
  {
   "cell_type": "code",
   "execution_count": 33,
   "metadata": {},
   "outputs": [
    {
     "data": {
      "text/plain": [
       "0.8668593676262388"
      ]
     },
     "execution_count": 33,
     "metadata": {},
     "output_type": "execute_result"
    }
   ],
   "source": [
    "roc_auc"
   ]
  },
  {
   "cell_type": "code",
   "execution_count": null,
   "metadata": {},
   "outputs": [],
   "source": []
  }
 ],
 "metadata": {
  "kernelspec": {
   "display_name": "Python 3",
   "language": "python",
   "name": "python3"
  },
  "language_info": {
   "codemirror_mode": {
    "name": "ipython",
    "version": 3
   },
   "file_extension": ".py",
   "mimetype": "text/x-python",
   "name": "python",
   "nbconvert_exporter": "python",
   "pygments_lexer": "ipython3",
   "version": "3.6.7"
  }
 },
 "nbformat": 4,
 "nbformat_minor": 2
}
